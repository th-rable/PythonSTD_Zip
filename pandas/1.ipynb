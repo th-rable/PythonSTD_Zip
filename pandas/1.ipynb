{
 "cells": [
  {
   "cell_type": "code",
   "execution_count": 1,
   "id": "d7e8c0de-1af5-4a94-8859-6b1f9b90a6f6",
   "metadata": {},
   "outputs": [],
   "source": [
    "import pandas as pd"
   ]
  },
  {
   "cell_type": "code",
   "execution_count": 2,
   "id": "207b8b4c-b42b-40f5-80da-78b6c57d9555",
   "metadata": {},
   "outputs": [
    {
     "name": "stdout",
     "output_type": "stream",
     "text": [
      "A    사과\n",
      "B    딸기\n",
      "C    수박\n",
      "dtype: object\n",
      "수박\n"
     ]
    }
   ],
   "source": [
    "arr = pd.Series(['사과','딸기','수박'],index=['A','B','C'])\n",
    "print(arr)\n",
    "print(arr['C'])"
   ]
  },
  {
   "cell_type": "code",
   "execution_count": 3,
   "id": "f8cf8fe1-5733-4e1a-bb51-2215f5487a0d",
   "metadata": {},
   "outputs": [
    {
     "name": "stdout",
     "output_type": "stream",
     "text": [
      "A    사과\n",
      "B    딸기\n",
      "dtype: object\n"
     ]
    }
   ],
   "source": [
    "# series로 변환\n",
    "\n",
    "data = {\n",
    "    'A':'사과',\n",
    "    'B':'딸기'\n",
    "}\n",
    "arr=pd.Series(data)\n",
    "print(arr)"
   ]
  },
  {
   "cell_type": "code",
   "execution_count": 4,
   "id": "1c678a40-c789-4d4c-8b1f-aa1dafaf8fa6",
   "metadata": {},
   "outputs": [
    {
     "name": "stdout",
     "output_type": "stream",
     "text": [
      "   과일  개수\n",
      "A  사과   3\n",
      "B  딸기   1\n"
     ]
    }
   ],
   "source": [
    "# DataFrame\n",
    "\n",
    "data = {\n",
    "    'A':'사과',\n",
    "    'B':'딸기'\n",
    "}\n",
    "\n",
    "count = {\n",
    "    'A':3,\n",
    "    'B':1\n",
    "}\n",
    "\n",
    "carr=pd.Series(count)\n",
    "summ = pd.DataFrame({\n",
    "    '과일':data,\n",
    "    '개수':count\n",
    "})\n",
    "\n",
    "print(summ)"
   ]
  },
  {
   "cell_type": "code",
   "execution_count": 5,
   "id": "e1afa57a-d969-4610-9ca7-2c5465630a37",
   "metadata": {},
   "outputs": [
    {
     "name": "stdout",
     "output_type": "stream",
     "text": [
      "   과일  개수   단가\n",
      "A  사과   3  500\n",
      "B  딸기   1  100\n",
      "   과일  개수   단가   총가격\n",
      "A  사과   3  500  1500\n",
      "B  딸기   1  100   100\n"
     ]
    }
   ],
   "source": [
    "# 데이터 추가\n",
    "onec = {\n",
    "    'A':500,\n",
    "    'B':100\n",
    "}\n",
    "onec = pd.Series(onec)\n",
    "summ['단가'] = onec\n",
    "print(summ)\n",
    "\n",
    "# series 연산\n",
    "summ['총가격'] = summ['개수'] * summ['단가']\n",
    "print(summ)"
   ]
  },
  {
   "cell_type": "code",
   "execution_count": 6,
   "id": "dc81bf5d-81ac-4693-a344-d1ba6b6702eb",
   "metadata": {},
   "outputs": [
    {
     "name": "stdout",
     "output_type": "stream",
     "text": [
      "   과일  개수   단가   총가격\n",
      "A  사과   3  500  1500\n",
      "B  딸기   1  100   100\n",
      "   과일  개수\n",
      "A  사과   3\n",
      "    단가   총가격\n",
      "A  500  1500\n",
      "B  100   100\n"
     ]
    }
   ],
   "source": [
    "# 슬라이싱\n",
    "\n",
    "print(summ)\n",
    "\n",
    "# 이름 기준\n",
    "print(summ.loc[:'A','과일':'개수'])\n",
    "\n",
    "# 인덱스 기준\n",
    "print(summ.iloc[0:2,2:])"
   ]
  },
  {
   "cell_type": "code",
   "execution_count": 7,
   "id": "59534da3-c3f1-4049-9bd1-00b33ba58c25",
   "metadata": {},
   "outputs": [
    {
     "name": "stdout",
     "output_type": "stream",
     "text": [
      "   과일  개수   단가   총가격\n",
      "A  사과   3  500  1500\n",
      "B  딸기   1  100   100\n",
      "   과일  개수    단가   총가격\n",
      "A  사과   3   500  1500\n",
      "B  딸기   1   100   100\n",
      "C  수박   2  1000  2000\n"
     ]
    }
   ],
   "source": [
    "# 데이터 추가\n",
    "\n",
    "print(summ)\n",
    "summ.loc['C'] = ['수박',2,1000,1]\n",
    "summ['총가격'] = summ['개수'] * summ['단가']\n",
    "print(summ)"
   ]
  },
  {
   "cell_type": "code",
   "execution_count": 8,
   "id": "ae61b2bc-5daf-4f0e-b8ae-27cf52c33ae4",
   "metadata": {},
   "outputs": [
    {
     "name": "stdout",
     "output_type": "stream",
     "text": [
      "   과일  개수    단가   총가격\n",
      "A  사과   3   500  1500\n",
      "B  딸기   1   100   100\n",
      "C  수박   2  1000  2000\n"
     ]
    }
   ],
   "source": [
    "# 엑셀(CSV)로 저장, 불러오기\n",
    "\n",
    "summ.to_csv(\"summ1.csv\",encoding='utf-8-sig')\n",
    "saved = pd.read_csv(\"summ1.csv\",index_col=0) # 0번째 열을 인덱스로 지정\n",
    "print(saved)"
   ]
  },
  {
   "cell_type": "code",
   "execution_count": 9,
   "id": "24726e54-5811-4694-9264-5f147521e469",
   "metadata": {},
   "outputs": [
    {
     "name": "stdout",
     "output_type": "stream",
     "text": [
      "   과일  개수   단가   총가격\n",
      "A  사과   3  500  1500\n",
      "B  딸기   1  100   100\n"
     ]
    }
   ],
   "source": [
    "# 행 삭제\n",
    "\n",
    "new = saved.drop('C',axis=0)\n",
    "print(new)"
   ]
  },
  {
   "cell_type": "code",
   "execution_count": 10,
   "id": "8d5609f6-54ad-4429-b251-bf6f95d69718",
   "metadata": {},
   "outputs": [
    {
     "name": "stdout",
     "output_type": "stream",
     "text": [
      "   과일  개수    단가\n",
      "A  사과   3   500\n",
      "B  딸기   1   100\n",
      "C  수박   2  1000\n"
     ]
    }
   ],
   "source": [
    "# 열 삭제\n",
    "\n",
    "new = saved.drop('총가격',axis=1)\n",
    "print(new)"
   ]
  },
  {
   "cell_type": "code",
   "execution_count": 11,
   "id": "1ab056c9-4a2a-4a1e-81c1-8e0c2ad8d018",
   "metadata": {},
   "outputs": [
    {
     "name": "stdout",
     "output_type": "stream",
     "text": [
      "   과일    단가   총가격\n",
      "A  사과   500  1500\n",
      "B  딸기   100   100\n",
      "C  수박  1000  2000\n",
      "   과일  개수    단가   총가격\n",
      "A  사과   3   500  1500\n",
      "C  수박   2  1000  2000\n"
     ]
    }
   ],
   "source": [
    "# 인덱스, 컬럼으로 삭제\n",
    "\n",
    "new = saved.drop(saved.columns[1],axis=1)\n",
    "print(new)\n",
    "\n",
    "new = saved.drop(saved.index[1],axis=0)\n",
    "print(new)"
   ]
  },
  {
   "cell_type": "code",
   "execution_count": 12,
   "id": "fcf42ffe-c10b-41d2-a38c-e42315265e84",
   "metadata": {},
   "outputs": [
    {
     "name": "stdout",
     "output_type": "stream",
     "text": [
      "   과일  개수     단가   총가격\n",
      "A  사과   3  500.0  1500\n",
      "B  딸기   1  100.0   100\n",
      "C  수박   2    NaN  2000\n",
      "      과일     개수     단가    총가격\n",
      "A  False  False  False  False\n",
      "B  False  False  False  False\n",
      "C  False  False   True  False\n"
     ]
    }
   ],
   "source": [
    "new = saved\n",
    "new.loc['C','단가'] = None\n",
    "print(new)\n",
    "\n",
    "# null 확인\n",
    "print(new.isnull())"
   ]
  },
  {
   "cell_type": "code",
   "execution_count": 13,
   "id": "71948628-9ed9-4df8-b534-af4cf2c50af2",
   "metadata": {},
   "outputs": [
    {
     "name": "stdout",
     "output_type": "stream",
     "text": [
      "     0    1    2\n",
      "A  1.0  2.0  NaN\n",
      "B  4.0  6.0  3.0\n",
      "C  4.0  5.0  6.0\n",
      "D  7.0  8.0  9.0\n"
     ]
    }
   ],
   "source": [
    "# 데이터프레임 더하기\n",
    "\n",
    "array1 = pd.DataFrame([[1, 2], [3, 4]], index=['A', 'B'])\n",
    "array2 = pd.DataFrame([[1, 2, 3], [4, 5, 6], [7, 8, 9]], index=['B', 'C', 'D'])\n",
    "array1 = array1.add(array2,fill_value=0) # nan에 0을 채워서 게산\n",
    "print(array1)"
   ]
  },
  {
   "cell_type": "code",
   "execution_count": 14,
   "id": "fb799215-7f7b-42f5-a537-0a71c74eb1c4",
   "metadata": {},
   "outputs": [
    {
     "name": "stdout",
     "output_type": "stream",
     "text": [
      "16.0\n",
      "3.0\n"
     ]
    }
   ],
   "source": [
    "# 행/열의 합\n",
    "\n",
    "print(array1[0].sum(axis=0))\n",
    "print(array1.loc['A'].sum(axis=0))"
   ]
  },
  {
   "cell_type": "code",
   "execution_count": 15,
   "id": "20f3e2c1-95dc-478c-95f1-1658ac135c76",
   "metadata": {},
   "outputs": [
    {
     "name": "stdout",
     "output_type": "stream",
     "text": [
      "     0    1    2\n",
      "D  7.0  8.0  9.0\n",
      "B  4.0  6.0  3.0\n",
      "C  4.0  5.0  6.0\n",
      "A  1.0  2.0  1.0\n",
      "     0    1    2\n",
      "A  1.0  2.0  1.0\n",
      "C  4.0  5.0  6.0\n",
      "B  4.0  6.0  3.0\n",
      "D  7.0  8.0  9.0\n"
     ]
    }
   ],
   "source": [
    "array1.loc['A',2] = 1.0\n",
    "\n",
    "# 정렬\n",
    "\n",
    "# 내림차순\n",
    "array1 = array1.sort_values(1,ascending=False)\n",
    "print(array1)\n",
    "\n",
    "# 오름차순\n",
    "array1 = array1.sort_values(1,ascending=True)\n",
    "print(array1)"
   ]
  },
  {
   "cell_type": "code",
   "execution_count": 16,
   "id": "f32dd0ad-b107-44b9-ad0c-e18d87ba35e7",
   "metadata": {},
   "outputs": [
    {
     "name": "stdout",
     "output_type": "stream",
     "text": [
      "      A      C      B      D\n",
      "0  True   True   True  False\n",
      "1  True   True  False  False\n",
      "2  True  False   True  False\n",
      "     A    C    B    D\n",
      "0  1.0  4.0  4.0  7.0\n",
      "2  1.0  6.0  3.0  9.0\n"
     ]
    }
   ],
   "source": [
    "# 행 열 변환\n",
    "array1=array1.transpose()\n",
    "\n",
    "# 쿼리\n",
    "print(array1<=5)\n",
    "print(array1.query(\"B <= 5\"))"
   ]
  },
  {
   "cell_type": "code",
   "execution_count": 17,
   "id": "abba499f-c1a6-4f2b-b71b-dc63ca64f113",
   "metadata": {},
   "outputs": [
    {
     "name": "stdout",
     "output_type": "stream",
     "text": [
      "     A    C    B    D\n",
      "0   1임  4.0  4.0  7.0\n",
      "1  2.0  5.0  6.0  8.0\n",
      "2   1임  6.0  3.0  9.0\n"
     ]
    }
   ],
   "source": [
    "# 변경\n",
    "print(array1.replace({1:'1임'}))"
   ]
  },
  {
   "cell_type": "code",
   "execution_count": null,
   "id": "ba0e43c8-abb5-4b30-9689-53be647a3e61",
   "metadata": {},
   "outputs": [],
   "source": []
  },
  {
   "cell_type": "code",
   "execution_count": null,
   "id": "66de25ee-3bb4-4b2b-9060-8ef26d4834ca",
   "metadata": {},
   "outputs": [],
   "source": []
  }
 ],
 "metadata": {
  "kernelspec": {
   "display_name": "Python 3 (ipykernel)",
   "language": "python",
   "name": "python3"
  },
  "language_info": {
   "codemirror_mode": {
    "name": "ipython",
    "version": 3
   },
   "file_extension": ".py",
   "mimetype": "text/x-python",
   "name": "python",
   "nbconvert_exporter": "python",
   "pygments_lexer": "ipython3",
   "version": "3.9.13"
  }
 },
 "nbformat": 4,
 "nbformat_minor": 5
}
